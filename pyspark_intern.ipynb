{
  "nbformat": 4,
  "nbformat_minor": 0,
  "metadata": {
    "colab": {
      "provenance": []
    },
    "kernelspec": {
      "name": "python3",
      "display_name": "Python 3"
    },
    "language_info": {
      "name": "python"
    }
  },
  "cells": [
    {
      "cell_type": "markdown",
      "source": [
        "# BIG DATA ANALYSIS USING PYSPARK"
      ],
      "metadata": {
        "id": "Z1fT0pbo5mhy"
      }
    },
    {
      "cell_type": "code",
      "source": [
        "!pip install pyspark\n",
        "from pyspark.sql import SparkSession\n",
        "spark=SparkSession.builder.appName('Pyspark').getOrCreate()"
      ],
      "metadata": {
        "id": "TFU2nD745148"
      },
      "execution_count": null,
      "outputs": []
    },
    {
      "cell_type": "code",
      "source": [
        "df=spark.read.csv('/content/D3.csv',header=True,inferSchema=True)"
      ],
      "metadata": {
        "id": "Aqx6iM9D7l9n"
      },
      "execution_count": null,
      "outputs": []
    },
    {
      "cell_type": "markdown",
      "source": [
        "1.Display Top 5 Rows of the dataset"
      ],
      "metadata": {
        "id": "Lw-FX2EH-pWd"
      }
    },
    {
      "cell_type": "code",
      "source": [
        "df.show(5)"
      ],
      "metadata": {
        "id": "tcuQunr_7rbm"
      },
      "execution_count": null,
      "outputs": []
    },
    {
      "cell_type": "markdown",
      "source": [
        "2.Display datatype of each column"
      ],
      "metadata": {
        "id": "aE21nGoI_AqU"
      }
    },
    {
      "cell_type": "code",
      "source": [
        "df.printSchema()"
      ],
      "metadata": {
        "id": "LdaSz6E39oVe"
      },
      "execution_count": null,
      "outputs": []
    },
    {
      "cell_type": "markdown",
      "source": [
        "3.Display column names"
      ],
      "metadata": {
        "id": "QCmHwlJR_87R"
      }
    },
    {
      "cell_type": "code",
      "source": [
        "df.columns"
      ],
      "metadata": {
        "id": "exKmlbqX_3MK"
      },
      "execution_count": null,
      "outputs": []
    },
    {
      "cell_type": "markdown",
      "source": [
        "4.Count number of rows and columns of the dataset"
      ],
      "metadata": {
        "id": "IU_f7048AN-3"
      }
    },
    {
      "cell_type": "code",
      "source": [
        "df.count()"
      ],
      "metadata": {
        "id": "LQjXqq1jALRR"
      },
      "execution_count": null,
      "outputs": []
    },
    {
      "cell_type": "code",
      "source": [
        "len(df.columns)"
      ],
      "metadata": {
        "id": "3VbMPFVyAh_r"
      },
      "execution_count": null,
      "outputs": []
    },
    {
      "cell_type": "markdown",
      "source": [
        "5.Statistics of the dataset"
      ],
      "metadata": {
        "id": "Jwu7fQ3rAohz"
      }
    },
    {
      "cell_type": "code",
      "source": [
        "df.describe(['Unit price','Quantity','Tax 5%','Total','gross margin percentage','gross income','Rating']).show()"
      ],
      "metadata": {
        "id": "pQXScZqlAmiH"
      },
      "execution_count": null,
      "outputs": []
    },
    {
      "cell_type": "markdown",
      "source": [
        "6.Find unique values available in the 'Gender' column"
      ],
      "metadata": {
        "id": "1R8Fg9TdCmOF"
      }
    },
    {
      "cell_type": "code",
      "source": [
        "df.toPandas()['Gender'].unique()"
      ],
      "metadata": {
        "id": "hQwlZAqyBAJq"
      },
      "execution_count": null,
      "outputs": []
    },
    {
      "cell_type": "markdown",
      "source": [
        "7.Find total number unique values available in the 'Gender' column"
      ],
      "metadata": {
        "id": "WAUi8s-4DbFO"
      }
    },
    {
      "cell_type": "code",
      "source": [
        "len(df.toPandas()['Gender'].unique())"
      ],
      "metadata": {
        "id": "BBz1KrS-DC1-"
      },
      "execution_count": null,
      "outputs": []
    },
    {
      "cell_type": "markdown",
      "source": [
        "8.select single column from the dataset"
      ],
      "metadata": {
        "id": "V0WZ_2seEWR7"
      }
    },
    {
      "cell_type": "code",
      "source": [
        "df.select('Product line').show()"
      ],
      "metadata": {
        "id": "eYnRJ6c0D6CN"
      },
      "execution_count": null,
      "outputs": []
    },
    {
      "cell_type": "markdown",
      "source": [
        "9.Select multiple columns"
      ],
      "metadata": {
        "id": "XwnxIpOSmlqO"
      }
    },
    {
      "cell_type": "code",
      "source": [
        "df.select(['Product line','Gender']).show()"
      ],
      "metadata": {
        "id": "lx4Sux26Ey6R"
      },
      "execution_count": null,
      "outputs": []
    },
    {
      "cell_type": "markdown",
      "source": [
        "10.create new column with total +1"
      ],
      "metadata": {
        "id": "dRNCOMFxn8uQ"
      }
    },
    {
      "cell_type": "code",
      "source": [
        "df.withColumn('Total+1',df['Total']+1).show()"
      ],
      "metadata": {
        "id": "_yEgHU3Nm3wC"
      },
      "execution_count": null,
      "outputs": []
    },
    {
      "cell_type": "markdown",
      "source": [
        "11.Rename 'Payment'column as 'Payment Method'"
      ],
      "metadata": {
        "id": "iVqDO7HrpqDx"
      }
    },
    {
      "cell_type": "code",
      "source": [
        "df=df.withColumnRenamed('Payment','Payment Method')"
      ],
      "metadata": {
        "id": "UZZi9bkXpd3J"
      },
      "execution_count": null,
      "outputs": []
    },
    {
      "cell_type": "code",
      "source": [
        "df.show()"
      ],
      "metadata": {
        "id": "f8J9klEoqbO5"
      },
      "execution_count": null,
      "outputs": []
    },
    {
      "cell_type": "markdown",
      "source": [
        "12.Display customer type who purchased less than 2 items"
      ],
      "metadata": {
        "id": "b9Z3eXeyqwIu"
      }
    },
    {
      "cell_type": "code",
      "source": [
        "df.filter('Quantity<2').select('Customer type').show()"
      ],
      "metadata": {
        "id": "pk-19-Svqnrc"
      },
      "execution_count": null,
      "outputs": []
    },
    {
      "cell_type": "markdown",
      "source": [
        "13.Display Gender and customer type who purchased less than 2 item"
      ],
      "metadata": {
        "id": "ijz94KR8r9AY"
      }
    },
    {
      "cell_type": "code",
      "source": [
        "df.filter('Quantity<2').select(['Gender','Customer type']).show()"
      ],
      "metadata": {
        "id": "efC4efU7rfhf"
      },
      "execution_count": null,
      "outputs": []
    },
    {
      "cell_type": "markdown",
      "source": [
        "14.Display branch which has least total income is less than 30 and quantity less than 3"
      ],
      "metadata": {
        "id": "vzL90uQyyu5V"
      }
    },
    {
      "cell_type": "code",
      "source": [
        "df.filter(('Total<20')and('Quantity<3')).select('Branch','Gender').show()"
      ],
      "metadata": {
        "id": "iVesC4lxyrdJ"
      },
      "execution_count": null,
      "outputs": []
    },
    {
      "cell_type": "markdown",
      "source": [
        "15.Display the product line which has rating greater than 9"
      ],
      "metadata": {
        "id": "NokkOGko2UtY"
      }
    },
    {
      "cell_type": "code",
      "source": [
        "df.filter('Rating>9.5').select('City','Product line').show()"
      ],
      "metadata": {
        "id": "yqJkexyP0CEj"
      },
      "execution_count": null,
      "outputs": []
    },
    {
      "cell_type": "markdown",
      "source": [
        "16.Display average total of Male and Female"
      ],
      "metadata": {
        "id": "mcl3EcoX4mZU"
      }
    },
    {
      "cell_type": "code",
      "source": [
        "df.groupBy('Gender').mean('Total').show()"
      ],
      "metadata": {
        "id": "O_OpNtYd3GQo"
      },
      "execution_count": null,
      "outputs": []
    },
    {
      "cell_type": "markdown",
      "source": [
        "17.count total number of male and female"
      ],
      "metadata": {
        "id": "ZH3xGIT35cjR"
      }
    },
    {
      "cell_type": "code",
      "source": [
        "df.groupBy('Gender').count().show()"
      ],
      "metadata": {
        "id": "1KTzT-JJ5CYn"
      },
      "execution_count": null,
      "outputs": []
    },
    {
      "cell_type": "markdown",
      "source": [
        "18.Display cities and their entier total"
      ],
      "metadata": {
        "id": "1W_TMTio5qz-"
      }
    },
    {
      "cell_type": "code",
      "source": [
        "df.groupBy('City').sum('Total').show()"
      ],
      "metadata": {
        "id": "TOThA0xj5Ubd"
      },
      "execution_count": null,
      "outputs": []
    },
    {
      "cell_type": "code",
      "source": [],
      "metadata": {
        "id": "3qxIs5V1_kis"
      },
      "execution_count": null,
      "outputs": []
    },
    {
      "cell_type": "markdown",
      "source": [
        "19.sort column in decending order based on total"
      ],
      "metadata": {
        "id": "YdeiI8Gv6q2s"
      }
    },
    {
      "cell_type": "code",
      "source": [
        "df.orderBy('Total',ascending=False).show()"
      ],
      "metadata": {
        "id": "UIaFJIZS6L8Q"
      },
      "execution_count": null,
      "outputs": []
    },
    {
      "cell_type": "markdown",
      "source": [
        "20.sort column in decending order based on rating"
      ],
      "metadata": {
        "id": "mhjDbfW0_4a2"
      }
    },
    {
      "cell_type": "code",
      "source": [
        "df.orderBy('Rating',ascending=False).show()"
      ],
      "metadata": {
        "id": "RM1PELUi7ahY"
      },
      "execution_count": null,
      "outputs": []
    }
  ]
}